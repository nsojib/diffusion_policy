{
 "cells": [
  {
   "cell_type": "code",
   "execution_count": null,
   "id": "a0600498",
   "metadata": {},
   "outputs": [],
   "source": [
    "import sys\n",
    "# use line-buffering for both stdout and stderr\n",
    "# sys.stdout = open(sys.stdout.fileno(), mode='w', buffering=1)\n",
    "# sys.stderr = open(sys.stderr.fileno(), mode='w', buffering=1)\n",
    "\n",
    "import os\n",
    "import pathlib\n",
    "import click\n",
    "import hydra\n",
    "import torch\n",
    "import dill\n",
    "import wandb\n",
    "import json\n",
    "from diffusion_policy.workspace.base_workspace import BaseWorkspace\n",
    "import h5py"
   ]
  },
  {
   "cell_type": "code",
   "execution_count": null,
   "id": "c572fb74",
   "metadata": {},
   "outputs": [],
   "source": []
  },
  {
   "cell_type": "code",
   "execution_count": 2,
   "id": "cf044086",
   "metadata": {},
   "outputs": [],
   "source": [
    "# checkpoint=\"data/0550-test_mean_score=0.969.ckpt\" \n",
    "checkpoint = \"/root/diffusion_policy/data/outputs/2025.05.12/06.08.55_train_diffusion_unet_lowdim_lift_lowdim/checkpoints/epoch=0050-test_mean_score=1.000.ckpt\"\n",
    "output_dir=\"data/eval_analysis\" \n",
    "device=\"cuda:0\"\n",
    "\n",
    "if os.path.exists(output_dir):\n",
    "    click.confirm(f\"Output path {output_dir} already exists! Overwrite?\", abort=True)\n",
    "pathlib.Path(output_dir).mkdir(parents=True, exist_ok=True)\n",
    "\n",
    "# load checkpoint\n",
    "payload = torch.load(open(checkpoint, 'rb'), pickle_module=dill)\n",
    "cfg = payload['cfg']\n",
    "cls = hydra.utils.get_class(cfg._target_)\n",
    "workspace = cls(cfg, output_dir=output_dir)\n",
    "workspace: BaseWorkspace\n",
    "workspace.load_payload(payload, exclude_keys=None, include_keys=None)"
   ]
  },
  {
   "cell_type": "code",
   "execution_count": 3,
   "id": "e992d640",
   "metadata": {},
   "outputs": [],
   "source": [
    "# get policy from workspace\n",
    "policy = workspace.model\n",
    "if cfg.training.use_ema:\n",
    "    policy = workspace.ema_model\n",
    "\n",
    "device = torch.device(device)\n",
    "policy.to(device)\n",
    "policy.eval()\n",
    "pass "
   ]
  },
  {
   "cell_type": "code",
   "execution_count": null,
   "id": "bcdc6126",
   "metadata": {},
   "outputs": [],
   "source": [
    "# run eval\n",
    "env_runner = hydra.utils.instantiate(\n",
    "    cfg.task.env_runner,\n",
    "    output_dir=output_dir)"
   ]
  },
  {
   "cell_type": "code",
   "execution_count": null,
   "id": "0223ba9c",
   "metadata": {},
   "outputs": [],
   "source": [
    "runner_log = env_runner.run(policy)\n",
    "runner_log['test/mean_score']"
   ]
  },
  {
   "cell_type": "code",
   "execution_count": null,
   "id": "d7a00c69",
   "metadata": {},
   "outputs": [],
   "source": []
  },
  {
   "cell_type": "code",
   "execution_count": null,
   "id": "05e38758",
   "metadata": {},
   "outputs": [],
   "source": [
    "kwargs={'epoch':100, 'save_rollout':True}\n",
    "runner_log = env_runner.run(policy, kwargs)\n",
    "runner_log['test/mean_score']"
   ]
  },
  {
   "cell_type": "code",
   "execution_count": null,
   "id": "8550db70",
   "metadata": {},
   "outputs": [],
   "source": [
    "kwargs={'epoch':200}\n",
    "runner_log = env_runner.run(policy, kwargs)\n",
    "runner_log['test/mean_score']"
   ]
  },
  {
   "cell_type": "code",
   "execution_count": null,
   "id": "0b083112",
   "metadata": {},
   "outputs": [],
   "source": []
  },
  {
   "cell_type": "code",
   "execution_count": null,
   "id": "15a5958d",
   "metadata": {},
   "outputs": [],
   "source": [
    "dataset_path = cfg.task.dataset.dataset_path\n",
    "dataset_path"
   ]
  },
  {
   "cell_type": "code",
   "execution_count": null,
   "id": "89929d0e",
   "metadata": {},
   "outputs": [],
   "source": [
    "h5py_file = h5py.File(dataset_path, 'r')\n",
    "demo_names= list(h5py_file['data'].keys())\n",
    "len(demo_names)"
   ]
  },
  {
   "cell_type": "code",
   "execution_count": null,
   "id": "c055159b",
   "metadata": {},
   "outputs": [],
   "source": [
    "demo_name = demo_names[0]\n",
    "init_state = h5py_file['data'][demo_name]['states'][0]"
   ]
  },
  {
   "cell_type": "code",
   "execution_count": null,
   "id": "509b6728",
   "metadata": {},
   "outputs": [],
   "source": [
    "selected_demos = ['demo_1', 'demo_20', 'demo_33', 'demo_41', 'demo_67']\n",
    "init_states =[]\n",
    "for demo_name in selected_demos:\n",
    "    init_state = h5py_file['data'][demo_name]['states'][0]\n",
    "    init_states.append(init_state)\n",
    "len(init_states), init_states[0].shape"
   ]
  },
  {
   "cell_type": "code",
   "execution_count": null,
   "id": "e36880e9",
   "metadata": {},
   "outputs": [],
   "source": [
    "# cfg_te=cfg.task.env_runner\n",
    "cfg_te={key:value for key,value in cfg.task.env_runner.items()}\n",
    "cfg_te['init_states'] = init_states"
   ]
  },
  {
   "cell_type": "code",
   "execution_count": null,
   "id": "e5175904",
   "metadata": {},
   "outputs": [],
   "source": [
    "env_runner = hydra.utils.instantiate(\n",
    "    cfg_te,\n",
    "    output_dir=output_dir)"
   ]
  },
  {
   "cell_type": "code",
   "execution_count": null,
   "id": "5f418242",
   "metadata": {},
   "outputs": [],
   "source": [
    "kwargs={'epoch':100, 'save_rollout':True}\n",
    "runner_log = env_runner.run(policy, kwargs)\n",
    "runner_log['infinit/mean_score']"
   ]
  },
  {
   "cell_type": "code",
   "execution_count": null,
   "id": "f7871687",
   "metadata": {},
   "outputs": [],
   "source": []
  },
  {
   "cell_type": "code",
   "execution_count": null,
   "id": "078299d9",
   "metadata": {},
   "outputs": [],
   "source": []
  },
  {
   "cell_type": "code",
   "execution_count": null,
   "id": "7e591ac9",
   "metadata": {},
   "outputs": [],
   "source": []
  }
 ],
 "metadata": {
  "kernelspec": {
   "display_name": "robodiff",
   "language": "python",
   "name": "python3"
  },
  "language_info": {
   "codemirror_mode": {
    "name": "ipython",
    "version": 3
   },
   "file_extension": ".py",
   "mimetype": "text/x-python",
   "name": "python",
   "nbconvert_exporter": "python",
   "pygments_lexer": "ipython3",
   "version": "3.9.18"
  }
 },
 "nbformat": 4,
 "nbformat_minor": 5
}
