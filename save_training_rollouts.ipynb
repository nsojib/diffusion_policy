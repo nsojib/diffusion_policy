{
 "cells": [
  {
   "cell_type": "code",
   "execution_count": 1,
   "id": "03947ad2",
   "metadata": {},
   "outputs": [],
   "source": [
    "import numpy as np\n",
    "import matplotlib.pyplot as plt\n",
    "import os\n",
    "import sys\n",
    "import time \n",
    "import tqdm\n",
    "import h5py\n",
    "import json \n",
    "import robomimic.envs.env_base as EB\n",
    "import yaml\n",
    "import shutil"
   ]
  },
  {
   "cell_type": "code",
   "execution_count": 2,
   "id": "06735619",
   "metadata": {},
   "outputs": [],
   "source": [
    "# create hdf5 from rollouts."
   ]
  },
  {
   "cell_type": "code",
   "execution_count": 3,
   "id": "a3937d98",
   "metadata": {},
   "outputs": [],
   "source": [
    "# training_path = \"/root/diffusion_policy/data/outputs/2025.05.15/20.56.04_train_diffusion_unet_lowdim_lift_lowdim\"\n",
    "training_path = \"/root/diffusion_policy/data/outputs/2025.05.18/01.15.16_train_diffusion_unet_hybrid_pusht_image\""
   ]
  },
  {
   "cell_type": "code",
   "execution_count": 4,
   "id": "d0ed0689",
   "metadata": {},
   "outputs": [],
   "source": [
    "checkpoint_path = os.path.join(training_path, \"checkpoints\")\n",
    "rollout_path = os.path.join(training_path, \"rollouts\")\n",
    "\n",
    "config_path = os.path.join(training_path, \".hydra/config.yaml\")\n",
    "# load yaml config\n",
    "with open(config_path, 'r') as f:\n",
    "    config = f.read()\n",
    "config = yaml.safe_load(config)\n",
    "\n",
    "dataset_type=None \n",
    "dataset_path=None  \n",
    "if 'dataset_path' in config['task']['dataset']:\n",
    "    dataset_path = config['task']['dataset']['dataset_path']\n",
    "if 'zarr_path' in config['task']['dataset']:\n",
    "    dataset_path = config['task']['dataset']['zarr_path'] \n",
    "\n",
    "if '.hdf5' in dataset_path:\n",
    "    dataset_type = 'hdf5'\n",
    "elif '.zarr' in dataset_path:\n",
    "    dataset_type = 'zarr'"
   ]
  },
  {
   "cell_type": "code",
   "execution_count": 5,
   "id": "53637a68",
   "metadata": {},
   "outputs": [
    {
     "data": {
      "text/plain": [
       "'zarr'"
      ]
     },
     "execution_count": 5,
     "metadata": {},
     "output_type": "execute_result"
    }
   ],
   "source": [
    "dataset_type "
   ]
  },
  {
   "cell_type": "code",
   "execution_count": 6,
   "id": "cff92cb3",
   "metadata": {},
   "outputs": [
    {
     "name": "stdout",
     "output_type": "stream",
     "text": [
      "epoch 0\n"
     ]
    }
   ],
   "source": [
    "checkpoints = os.listdir(checkpoint_path)\n",
    "for checkpoint in checkpoints:\n",
    "    if \"epoch=\" in checkpoint:\n",
    "        epoch = checkpoint.split(\"=\")[1].split(\"-\")[0]\n",
    "        epoch = int(epoch)\n",
    "        print('epoch', epoch)"
   ]
  },
  {
   "cell_type": "code",
   "execution_count": 9,
   "id": "196479cf",
   "metadata": {},
   "outputs": [],
   "source": [
    "def load_rollout(rollout_path):\n",
    "    rollout = np.load(rollout_path, allow_pickle=True).item()\n",
    "    states= np.array(rollout['states'])\n",
    "    actions= np.array(rollout['actions']) \n",
    "    return states, actions"
   ]
  },
  {
   "cell_type": "code",
   "execution_count": 10,
   "id": "c8c48de5",
   "metadata": {},
   "outputs": [],
   "source": [
    "def load_dataset_attributes(dataset_path): \n",
    "    file=h5py.File(dataset_path, 'r') \n",
    "    key = 'env_args'\n",
    "    env_args=file['data'].attrs[key]\n",
    "    model_file=file['data/demo_1'].attrs[\"model_file\"]\n",
    "    file.close()\n",
    "    return env_args, model_file"
   ]
  },
  {
   "cell_type": "code",
   "execution_count": null,
   "id": "242d80b8",
   "metadata": {},
   "outputs": [],
   "source": [
    "env_args, model_file =None, None \n",
    "if dataset_type=='hdf5':\n",
    "    env_args, model_file = load_dataset_attributes(dataset_path)"
   ]
  },
  {
   "cell_type": "code",
   "execution_count": 15,
   "id": "2b8b63db",
   "metadata": {},
   "outputs": [],
   "source": [
    "# model_file\n",
    "# env_args"
   ]
  },
  {
   "cell_type": "code",
   "execution_count": 16,
   "id": "466873c6",
   "metadata": {},
   "outputs": [],
   "source": [
    "# env_name=env_args[\"env_name\"]\n",
    "# repository_version=env_args[\"env_version\"] \n",
    "# env_meta\n",
    "\n",
    "# rollout['initial_state_dict']\n",
    "\n",
    "# model=rollout['initial_state_dict']['model']\n",
    "# print(model)"
   ]
  },
  {
   "cell_type": "code",
   "execution_count": 13,
   "id": "86132b93",
   "metadata": {},
   "outputs": [],
   "source": [
    "def rollout_to_hdf5(rollout_dir, env_args, model_file, dataset_save_dir=None):\n",
    "    \"\"\" \n",
    "    rollout_dir: contains rollout files (.npy) (e.g. 56 files)\n",
    "    dataset_save_dir: create a hdf5 file from all the rollouts and save inside this dir.\n",
    "    \"\"\"\n",
    "\n",
    "    if dataset_save_dir==None:\n",
    "        dataset_save_dir = os.path.dirname(rollout_dir)\n",
    "    \n",
    "    rollout_files = [rollout_dir+\"/\"+filename for filename in os.listdir(rollout_dir)] \n",
    "\n",
    "    base_name= os.path.basename(rollout_dir)  #e.g. \"epoch_0\"\n",
    "    dataset_path_sub = dataset_save_dir+f\"/{base_name}.hdf5\"\n",
    "    f_sub = h5py.File(dataset_path_sub, \"w\") \n",
    "    grp = f_sub.create_group(\"data\")\n",
    "    f_sub.create_group(\"mask\")\n",
    "\n",
    "    #copy attributes \n",
    "    if env_args is not None:\n",
    "        key = 'env_args'\n",
    "        f_sub['data'].attrs[key]=env_args\n",
    "\n",
    "    for i, rollout_path in enumerate(rollout_files):\n",
    "        states, actions = load_rollout(rollout_path)\n",
    "        ep_data_grp = grp.create_group(f\"demo_{i}\")\n",
    "        \n",
    "        if model_file is not None:\n",
    "            ep_data_grp.attrs[\"model_file\"] = model_file \n",
    "\n",
    "        if type(states[0])== dict: #pusht data.\n",
    "            # convert to list\n",
    "            images= [state['image'] for state in states]\n",
    "            agent_poss= [state['agent_pos'] for state in states] \n",
    "            obs=ep_data_grp.create_group(\"obs\")\n",
    "            obs.create_dataset(\"images\", data=images)\n",
    "            obs.create_dataset(\"agent_poss\", data=agent_poss)\n",
    "            ep_data_grp.create_dataset(\"states\", data=agent_poss)\n",
    "        else:\n",
    "            ep_data_grp.create_dataset(\"states\", data=states)\n",
    "        ep_data_grp.create_dataset(\"actions\", data=actions)\n",
    "\n",
    "    f_sub.close()"
   ]
  },
  {
   "cell_type": "code",
   "execution_count": 18,
   "id": "4bc6c7b8",
   "metadata": {},
   "outputs": [
    {
     "name": "stderr",
     "output_type": "stream",
     "text": [
      "100%|██████████| 1/1 [00:01<00:00,  1.75s/it]\n"
     ]
    }
   ],
   "source": [
    "rollouts = os.listdir(rollout_path)\n",
    "for rollout_name in tqdm.tqdm(rollouts): \n",
    "    rollout_dir = os.path.join(rollout_path, rollout_name)\n",
    "    if os.path.isdir(rollout_dir):\n",
    "        rollout_to_hdf5(rollout_dir, env_args, model_file) \n",
    "        shutil.rmtree(rollout_dir, ignore_errors=True)"
   ]
  },
  {
   "cell_type": "code",
   "execution_count": null,
   "id": "fc4d7f7a",
   "metadata": {},
   "outputs": [],
   "source": []
  },
  {
   "cell_type": "code",
   "execution_count": null,
   "id": "fc73c595",
   "metadata": {},
   "outputs": [],
   "source": []
  },
  {
   "cell_type": "code",
   "execution_count": 24,
   "id": "43369e52",
   "metadata": {},
   "outputs": [
    {
     "data": {
      "text/plain": [
       "((9, 2), (9, 2))"
      ]
     },
     "execution_count": 24,
     "metadata": {},
     "output_type": "execute_result"
    }
   ],
   "source": [
    "# test\n",
    "hdf5_path = \"/root/diffusion_policy/data/outputs/2025.05.18/01.15.16_train_diffusion_unet_hybrid_pusht_image/rollouts/epoch_0.hdf5\"\n",
    "f = h5py.File(hdf5_path, 'r')\n",
    "f['data'].keys()\n",
    "demo=f['data/demo_0']\n",
    "demo.keys()\n",
    "demo['obs'].keys()\n",
    "demo['states'].shape, demo['actions'].shape"
   ]
  },
  {
   "cell_type": "code",
   "execution_count": null,
   "id": "50b76eb8",
   "metadata": {},
   "outputs": [],
   "source": []
  },
  {
   "cell_type": "code",
   "execution_count": null,
   "id": "df6d1230",
   "metadata": {},
   "outputs": [],
   "source": []
  },
  {
   "cell_type": "code",
   "execution_count": 19,
   "id": "9c1541ae",
   "metadata": {},
   "outputs": [],
   "source": [
    "dataset_path = \"/home/ns1254/diffusion_policy/data/robomimic/can_mh_image_abs.hdf5\" \n",
    "# inf_dir = \"/home/ns1254/diffusion_policy/data/outputs/can_mh_img1/checkpoints/epoch=0000-test_mean_score=0.000\"\n",
    "inf_dir = \"/home/ns1254/diffusion_policy/data/outputs/can_mh_img1/checkpoints/epoch=0020-test_mean_score=0.660\""
   ]
  },
  {
   "cell_type": "code",
   "execution_count": 20,
   "id": "4ca4a3ae",
   "metadata": {},
   "outputs": [],
   "source": [
    "if '.hdf5' in dataset_path:\n",
    "    dataset_type = 'hdf5'\n",
    "elif '.zarr' in dataset_path:\n",
    "    dataset_type = 'zarr'\n",
    "\n",
    "env_args, model_file =None, None \n",
    "if dataset_type=='hdf5':\n",
    "    env_args, model_file = load_dataset_attributes(dataset_path)"
   ]
  },
  {
   "cell_type": "code",
   "execution_count": 24,
   "id": "11a7e9e9",
   "metadata": {},
   "outputs": [],
   "source": [
    "def inf2hdf5(inf_dir, env_args, model_file):\n",
    "    \"\"\" \n",
    "    inf_dir: seed_42\n",
    "    \"\"\"\n",
    "    seed_files = [f for f in os.listdir(inf_dir) if os.path.isdir(os.path.join(inf_dir, f))]\n",
    "\n",
    "    for seed_file in seed_files:\n",
    "        inf_path = os.path.join(inf_dir, seed_file)\n",
    "        print(f\"processing {inf_path}\")\n",
    "        rollout_dir = os.path.join(inf_path, \"rollouts/epoch_inference\")\n",
    "        try:\n",
    "            if os.path.isdir(rollout_dir):\n",
    "                rollout_to_hdf5(rollout_dir, env_args, model_file) \n",
    "                shutil.rmtree(rollout_dir, ignore_errors=True)\n",
    "        except:\n",
    "            print(f\"error processing {inf_path} --------\")\n",
    "            continue"
   ]
  },
  {
   "cell_type": "code",
   "execution_count": null,
   "id": "46648aa5",
   "metadata": {},
   "outputs": [],
   "source": []
  },
  {
   "cell_type": "code",
   "execution_count": 25,
   "id": "14c68336",
   "metadata": {},
   "outputs": [
    {
     "name": "stdout",
     "output_type": "stream",
     "text": [
      "processing /home/ns1254/diffusion_policy/data/outputs/can_mh_img1/checkpoints/epoch=0180-test_mean_score=0.900/seed42\n",
      "processing /home/ns1254/diffusion_policy/data/outputs/can_mh_img1/checkpoints/epoch=0180-test_mean_score=0.900/seed43\n",
      "processing /home/ns1254/diffusion_policy/data/outputs/can_mh_img1/checkpoints/epoch=0180-test_mean_score=0.900/seed44\n",
      "processing /home/ns1254/diffusion_policy/data/outputs/can_mh_img1/checkpoints/epoch=0120-test_mean_score=0.880/seed42\n",
      "processing /home/ns1254/diffusion_policy/data/outputs/can_mh_img1/checkpoints/epoch=0120-test_mean_score=0.880/seed43\n",
      "processing /home/ns1254/diffusion_policy/data/outputs/can_mh_img1/checkpoints/epoch=0120-test_mean_score=0.880/seed44\n",
      "processing /home/ns1254/diffusion_policy/data/outputs/can_mh_img1/checkpoints/epoch=0000-test_mean_score=0.000/seed42\n",
      "processing /home/ns1254/diffusion_policy/data/outputs/can_mh_img1/checkpoints/epoch=0000-test_mean_score=0.000/seed43\n",
      "processing /home/ns1254/diffusion_policy/data/outputs/can_mh_img1/checkpoints/epoch=0000-test_mean_score=0.000/seed44\n",
      "processing /home/ns1254/diffusion_policy/data/outputs/can_mh_img1/checkpoints/epoch=0380-test_mean_score=0.920/seed42\n",
      "processing /home/ns1254/diffusion_policy/data/outputs/can_mh_img1/checkpoints/epoch=0380-test_mean_score=0.920/seed43\n",
      "processing /home/ns1254/diffusion_policy/data/outputs/can_mh_img1/checkpoints/epoch=0380-test_mean_score=0.920/seed44\n",
      "processing /home/ns1254/diffusion_policy/data/outputs/can_mh_img1/checkpoints/epoch=0020-test_mean_score=0.660/seed42\n",
      "processing /home/ns1254/diffusion_policy/data/outputs/can_mh_img1/checkpoints/epoch=0020-test_mean_score=0.660/seed43\n",
      "processing /home/ns1254/diffusion_policy/data/outputs/can_mh_img1/checkpoints/epoch=0020-test_mean_score=0.660/seed44\n",
      "processing /home/ns1254/diffusion_policy/data/outputs/can_mh_img1/checkpoints/epoch=0040-test_mean_score=0.640/seed42\n",
      "processing /home/ns1254/diffusion_policy/data/outputs/can_mh_img1/checkpoints/epoch=0040-test_mean_score=0.640/seed43\n",
      "processing /home/ns1254/diffusion_policy/data/outputs/can_mh_img1/checkpoints/epoch=0040-test_mean_score=0.640/seed44\n",
      "processing /home/ns1254/diffusion_policy/data/outputs/can_mh_img1/checkpoints/epoch=0340-test_mean_score=0.860/seed42\n",
      "processing /home/ns1254/diffusion_policy/data/outputs/can_mh_img1/checkpoints/epoch=0340-test_mean_score=0.860/seed43\n",
      "processing /home/ns1254/diffusion_policy/data/outputs/can_mh_img1/checkpoints/epoch=0340-test_mean_score=0.860/seed44\n",
      "processing /home/ns1254/diffusion_policy/data/outputs/can_mh_img1/checkpoints/epoch=0200-test_mean_score=0.900/seed42\n",
      "processing /home/ns1254/diffusion_policy/data/outputs/can_mh_img1/checkpoints/epoch=0200-test_mean_score=0.900/seed43\n",
      "processing /home/ns1254/diffusion_policy/data/outputs/can_mh_img1/checkpoints/epoch=0200-test_mean_score=0.900/seed44\n",
      "processing /home/ns1254/diffusion_policy/data/outputs/can_mh_img1/checkpoints/epoch=0320-test_mean_score=0.880/seed42\n",
      "processing /home/ns1254/diffusion_policy/data/outputs/can_mh_img1/checkpoints/epoch=0320-test_mean_score=0.880/seed43\n",
      "processing /home/ns1254/diffusion_policy/data/outputs/can_mh_img1/checkpoints/epoch=0320-test_mean_score=0.880/seed44\n",
      "processing /home/ns1254/diffusion_policy/data/outputs/can_mh_img1/checkpoints/epoch=0080-test_mean_score=0.860/seed42\n",
      "processing /home/ns1254/diffusion_policy/data/outputs/can_mh_img1/checkpoints/epoch=0080-test_mean_score=0.860/seed43\n",
      "processing /home/ns1254/diffusion_policy/data/outputs/can_mh_img1/checkpoints/epoch=0080-test_mean_score=0.860/seed44\n",
      "processing /home/ns1254/diffusion_policy/data/outputs/can_mh_img1/checkpoints/epoch=0240-test_mean_score=0.900/seed42\n",
      "processing /home/ns1254/diffusion_policy/data/outputs/can_mh_img1/checkpoints/epoch=0240-test_mean_score=0.900/seed43\n",
      "processing /home/ns1254/diffusion_policy/data/outputs/can_mh_img1/checkpoints/epoch=0240-test_mean_score=0.900/seed44\n",
      "processing /home/ns1254/diffusion_policy/data/outputs/can_mh_img1/checkpoints/epoch=0300-test_mean_score=0.860/seed42\n",
      "processing /home/ns1254/diffusion_policy/data/outputs/can_mh_img1/checkpoints/epoch=0300-test_mean_score=0.860/seed43\n",
      "processing /home/ns1254/diffusion_policy/data/outputs/can_mh_img1/checkpoints/epoch=0300-test_mean_score=0.860/seed44\n",
      "processing /home/ns1254/diffusion_policy/data/outputs/can_mh_img1/checkpoints/epoch=0260-test_mean_score=0.820/seed42\n",
      "processing /home/ns1254/diffusion_policy/data/outputs/can_mh_img1/checkpoints/epoch=0260-test_mean_score=0.820/seed43\n",
      "processing /home/ns1254/diffusion_policy/data/outputs/can_mh_img1/checkpoints/epoch=0260-test_mean_score=0.820/seed44\n",
      "processing /home/ns1254/diffusion_policy/data/outputs/can_mh_img1/checkpoints/epoch=0100-test_mean_score=0.920/seed42\n",
      "processing /home/ns1254/diffusion_policy/data/outputs/can_mh_img1/checkpoints/epoch=0100-test_mean_score=0.920/seed43\n",
      "processing /home/ns1254/diffusion_policy/data/outputs/can_mh_img1/checkpoints/epoch=0100-test_mean_score=0.920/seed44\n",
      "processing /home/ns1254/diffusion_policy/data/outputs/can_mh_img1/checkpoints/epoch=0140-test_mean_score=0.720/seed42\n",
      "processing /home/ns1254/diffusion_policy/data/outputs/can_mh_img1/checkpoints/epoch=0140-test_mean_score=0.720/seed43\n",
      "processing /home/ns1254/diffusion_policy/data/outputs/can_mh_img1/checkpoints/epoch=0140-test_mean_score=0.720/seed44\n",
      "processing /home/ns1254/diffusion_policy/data/outputs/can_mh_img1/checkpoints/epoch=0360-test_mean_score=0.880/seed42\n",
      "processing /home/ns1254/diffusion_policy/data/outputs/can_mh_img1/checkpoints/epoch=0360-test_mean_score=0.880/seed43\n",
      "processing /home/ns1254/diffusion_policy/data/outputs/can_mh_img1/checkpoints/epoch=0360-test_mean_score=0.880/seed44\n",
      "processing /home/ns1254/diffusion_policy/data/outputs/can_mh_img1/checkpoints/epoch=0060-test_mean_score=0.660/seed42\n",
      "processing /home/ns1254/diffusion_policy/data/outputs/can_mh_img1/checkpoints/epoch=0060-test_mean_score=0.660/seed43\n",
      "processing /home/ns1254/diffusion_policy/data/outputs/can_mh_img1/checkpoints/epoch=0060-test_mean_score=0.660/seed44\n",
      "processing /home/ns1254/diffusion_policy/data/outputs/can_mh_img1/checkpoints/epoch=0220-test_mean_score=0.860/seed42\n",
      "processing /home/ns1254/diffusion_policy/data/outputs/can_mh_img1/checkpoints/epoch=0220-test_mean_score=0.860/seed43\n",
      "processing /home/ns1254/diffusion_policy/data/outputs/can_mh_img1/checkpoints/epoch=0220-test_mean_score=0.860/seed44\n",
      "processing /home/ns1254/diffusion_policy/data/outputs/can_mh_img1/checkpoints/latest/seed42\n",
      "processing /home/ns1254/diffusion_policy/data/outputs/can_mh_img1/checkpoints/latest/seed43\n",
      "processing /home/ns1254/diffusion_policy/data/outputs/can_mh_img1/checkpoints/latest/seed44\n",
      "processing /home/ns1254/diffusion_policy/data/outputs/can_mh_img1/checkpoints/epoch=0400-test_mean_score=0.860/seed42\n",
      "processing /home/ns1254/diffusion_policy/data/outputs/can_mh_img1/checkpoints/epoch=0400-test_mean_score=0.860/seed43\n",
      "processing /home/ns1254/diffusion_policy/data/outputs/can_mh_img1/checkpoints/epoch=0400-test_mean_score=0.860/seed44\n",
      "processing /home/ns1254/diffusion_policy/data/outputs/can_mh_img1/checkpoints/epoch=0280-test_mean_score=0.920/seed42\n",
      "processing /home/ns1254/diffusion_policy/data/outputs/can_mh_img1/checkpoints/epoch=0280-test_mean_score=0.920/seed43\n",
      "processing /home/ns1254/diffusion_policy/data/outputs/can_mh_img1/checkpoints/epoch=0280-test_mean_score=0.920/seed44\n",
      "processing /home/ns1254/diffusion_policy/data/outputs/can_mh_img1/checkpoints/epoch=0160-test_mean_score=0.780/seed42\n",
      "processing /home/ns1254/diffusion_policy/data/outputs/can_mh_img1/checkpoints/epoch=0160-test_mean_score=0.780/seed43\n",
      "processing /home/ns1254/diffusion_policy/data/outputs/can_mh_img1/checkpoints/epoch=0160-test_mean_score=0.780/seed44\n"
     ]
    }
   ],
   "source": [
    "checkpoint_dir = \"/home/ns1254/diffusion_policy/data/outputs/can_mh_img1/checkpoints\"\n",
    "dirs = [f for f in os.listdir(checkpoint_dir) if os.path.isdir(os.path.join(checkpoint_dir, f))]\n",
    "\n",
    "for dir in dirs:\n",
    "    inf_dir = os.path.join(checkpoint_dir, dir)\n",
    "    inf2hdf5(inf_dir, env_args, model_file)"
   ]
  },
  {
   "cell_type": "code",
   "execution_count": null,
   "id": "3bc28ad7",
   "metadata": {},
   "outputs": [],
   "source": []
  },
  {
   "cell_type": "code",
   "execution_count": null,
   "id": "6df76bf1",
   "metadata": {},
   "outputs": [],
   "source": []
  },
  {
   "cell_type": "code",
   "execution_count": null,
   "id": "43496fe1",
   "metadata": {},
   "outputs": [],
   "source": []
  },
  {
   "cell_type": "code",
   "execution_count": null,
   "id": "34a84ee0",
   "metadata": {},
   "outputs": [],
   "source": []
  },
  {
   "cell_type": "code",
   "execution_count": null,
   "id": "99c661ba",
   "metadata": {},
   "outputs": [],
   "source": []
  }
 ],
 "metadata": {
  "kernelspec": {
   "display_name": "robodiff",
   "language": "python",
   "name": "python3"
  },
  "language_info": {
   "codemirror_mode": {
    "name": "ipython",
    "version": 3
   },
   "file_extension": ".py",
   "mimetype": "text/x-python",
   "name": "python",
   "nbconvert_exporter": "python",
   "pygments_lexer": "ipython3",
   "version": "3.9.18"
  }
 },
 "nbformat": 4,
 "nbformat_minor": 5
}
